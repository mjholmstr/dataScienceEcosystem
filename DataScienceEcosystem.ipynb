{
    "cells": [
        {
            "metadata": {},
            "cell_type": "markdown",
            "source": "<center>\n    <img src=\"https://cf-courses-data.s3.us.cloud-object-storage.appdomain.cloud/IBMDeveloperSkillsNetwork-DS0105EN-SkillsNetwork/labs/Module2/images/SN_web_lightmode.png\" width=\"300\" alt=\"cognitiveclass.ai logo\">\n</center>\n"
        },
        {
            "metadata": {},
            "cell_type": "markdown",
            "source": "#### Add your code below following the instructions given in the course\n"
        },
        {
            "metadata": {},
            "cell_type": "markdown",
            "source": "# Data Science Tools and Ecosystem"
        },
        {
            "metadata": {},
            "cell_type": "markdown",
            "source": "In this notebook, data science tools and ecosystem are summarized."
        },
        {
            "metadata": {},
            "cell_type": "markdown",
            "source": "**Objectives:**\n* List popular languages for data science\n* List commonly used libraries used in data science\n* List popular open source development environments\n* Show examples of some arithmetic expressions in Python\n"
        },
        {
            "metadata": {},
            "cell_type": "markdown",
            "source": "Some of the popular languages that data scientists use are:\n1. Python\n2. R\n3. SQL"
        },
        {
            "metadata": {},
            "cell_type": "markdown",
            "source": "Some of the commonly used libraries used by data scientists are:\n1. Pandas\n2. NumPy\n3. Matplotlib\n4. TensorFlow\n5. PyTorch"
        },
        {
            "metadata": {},
            "cell_type": "markdown",
            "source": "|Data Science Tools|\n|:--------------------:|\n|jupyter               |\n|RStudio               |\n|Spyder                |\n"
        },
        {
            "metadata": {},
            "cell_type": "markdown",
            "source": "### Below are a few examples of evaluating arithmetic expressions in Python"
        },
        {
            "metadata": {},
            "cell_type": "code",
            "source": "# This a simple arithmetic expression to mutiply then add integers\n(3*4)+5",
            "execution_count": 1,
            "outputs": [
                {
                    "output_type": "execute_result",
                    "execution_count": 1,
                    "data": {
                        "text/plain": "17"
                    },
                    "metadata": {}
                }
            ]
        },
        {
            "metadata": {},
            "cell_type": "code",
            "source": "# This will convert 200 minutes to hours by diving by 60\n200 / 60",
            "execution_count": 2,
            "outputs": [
                {
                    "output_type": "execute_result",
                    "execution_count": 2,
                    "data": {
                        "text/plain": "3.3333333333333335"
                    },
                    "metadata": {}
                }
            ]
        },
        {
            "metadata": {},
            "cell_type": "markdown",
            "source": "## Author\nMatt Holmstrom"
        },
        {
            "metadata": {},
            "cell_type": "code",
            "source": "",
            "execution_count": null,
            "outputs": []
        }
    ],
    "metadata": {
        "kernelspec": {
            "name": "python3",
            "display_name": "Python 3.10",
            "language": "python"
        },
        "language_info": {
            "name": "python",
            "version": "3.10.9",
            "mimetype": "text/x-python",
            "codemirror_mode": {
                "name": "ipython",
                "version": 3
            },
            "pygments_lexer": "ipython3",
            "nbconvert_exporter": "python",
            "file_extension": ".py"
        }
    },
    "nbformat": 4,
    "nbformat_minor": 4
}